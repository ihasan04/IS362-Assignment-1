{
 "cells": [
  {
   "cell_type": "markdown",
   "metadata": {},
   "source": [
    "# Ismael Hasan\n",
    "## Assignment 7\n",
    "\n",
    "**IS 362 - Dr. Charles Pak - CUNY School of Professional Studies**\n",
    "\n",
    "Choose six recent popular movies. Ask at least five people that you know (friends, family, classmates,\n",
    "imaginary friends) to rate each of these movies that they have seen on a scale of 1 to 5. There should be\n",
    "at least one movie that not everyone has seen! <br>\n",
    "\n",
    "Take the results (observations) and store them somewhere (like a SQL database, or a .CSV file). Load the\n",
    "information into a pandas dataframe. Your solution should include Python and pandas code that\n",
    "accomplishes the following:<br>\n",
    "\n",
    "**Your task in this week’s assignment is to answer three questions:**\n",
    "> 1. Load the ratings by user information that you collected into a pandas dataframe\n",
    "> 2. Show the average ratings for each user and each movie.\n",
    "> 3. Create a new pandas dataframe, with normalized ratings for each user. Again, show the average\n",
    "ratings for each user and each movie.\n",
    "> 4. Provide a text-based conclusion: explain what might be advantages and disadvantages of using\n",
    "normalized ratings instead of the actual ratings.\n",
    "> 5. [Extra credit] Create another new pandas dataframe, with standardized ratings for each user.\n",
    "Once again, show the average ratings for each user and each movie."
   ]
  },
  {
   "cell_type": "code",
   "execution_count": 75,
   "metadata": {},
   "outputs": [],
   "source": [
    "import numpy as np\n",
    "import pandas as pd"
   ]
  },
  {
   "cell_type": "markdown",
   "metadata": {},
   "source": [
    "***Read and display raw movie survey dataset*** <br>\n",
    "***Set first column as index***"
   ]
  },
  {
   "cell_type": "code",
   "execution_count": 76,
   "metadata": {
    "scrolled": true
   },
   "outputs": [
    {
     "data": {
      "text/html": [
       "<div>\n",
       "<style scoped>\n",
       "    .dataframe tbody tr th:only-of-type {\n",
       "        vertical-align: middle;\n",
       "    }\n",
       "\n",
       "    .dataframe tbody tr th {\n",
       "        vertical-align: top;\n",
       "    }\n",
       "\n",
       "    .dataframe thead th {\n",
       "        text-align: right;\n",
       "    }\n",
       "</style>\n",
       "<table border=\"1\" class=\"dataframe\">\n",
       "  <thead>\n",
       "    <tr style=\"text-align: right;\">\n",
       "      <th></th>\n",
       "      <th>Extraction</th>\n",
       "      <th>Despicable Me</th>\n",
       "      <th>Spenser Confidential</th>\n",
       "      <th>Angel Has Fallen</th>\n",
       "      <th>The Social Dilemma</th>\n",
       "      <th>The Old Guard</th>\n",
       "    </tr>\n",
       "  </thead>\n",
       "  <tbody>\n",
       "    <tr>\n",
       "      <th>Maryam</th>\n",
       "      <td>2.0</td>\n",
       "      <td>4.0</td>\n",
       "      <td>NaN</td>\n",
       "      <td>NaN</td>\n",
       "      <td>2.0</td>\n",
       "      <td>3.0</td>\n",
       "    </tr>\n",
       "    <tr>\n",
       "      <th>Mohammed</th>\n",
       "      <td>3.0</td>\n",
       "      <td>NaN</td>\n",
       "      <td>3.0</td>\n",
       "      <td>4.0</td>\n",
       "      <td>NaN</td>\n",
       "      <td>NaN</td>\n",
       "    </tr>\n",
       "    <tr>\n",
       "      <th>Daniel</th>\n",
       "      <td>NaN</td>\n",
       "      <td>4.0</td>\n",
       "      <td>3.0</td>\n",
       "      <td>NaN</td>\n",
       "      <td>NaN</td>\n",
       "      <td>4.0</td>\n",
       "    </tr>\n",
       "    <tr>\n",
       "      <th>Jeffrey</th>\n",
       "      <td>NaN</td>\n",
       "      <td>NaN</td>\n",
       "      <td>4.0</td>\n",
       "      <td>NaN</td>\n",
       "      <td>5.0</td>\n",
       "      <td>4.0</td>\n",
       "    </tr>\n",
       "    <tr>\n",
       "      <th>Arslan</th>\n",
       "      <td>4.0</td>\n",
       "      <td>2.0</td>\n",
       "      <td>3.0</td>\n",
       "      <td>5.0</td>\n",
       "      <td>4.0</td>\n",
       "      <td>NaN</td>\n",
       "    </tr>\n",
       "  </tbody>\n",
       "</table>\n",
       "</div>"
      ],
      "text/plain": [
       "          Extraction  Despicable Me  Spenser Confidential  Angel Has Fallen  \\\n",
       "Maryam           2.0            4.0                   NaN               NaN   \n",
       "Mohammed         3.0            NaN                   3.0               4.0   \n",
       "Daniel           NaN            4.0                   3.0               NaN   \n",
       "Jeffrey          NaN            NaN                   4.0               NaN   \n",
       "Arslan           4.0            2.0                   3.0               5.0   \n",
       "\n",
       "          The Social Dilemma  The Old Guard  \n",
       "Maryam                   2.0            3.0  \n",
       "Mohammed                 NaN            NaN  \n",
       "Daniel                   NaN            4.0  \n",
       "Jeffrey                  5.0            4.0  \n",
       "Arslan                   4.0            NaN  "
      ]
     },
     "execution_count": 76,
     "metadata": {},
     "output_type": "execute_result"
    }
   ],
   "source": [
    "movie_survey = pd.read_csv('C:/Users/ismae/Desktop/IS362-PAK/Week 7/movie survey.csv', index_col = 0)\n",
    "movie_survey"
   ]
  },
  {
   "cell_type": "markdown",
   "metadata": {},
   "source": [
    "***Replace NaN values with 0***"
   ]
  },
  {
   "cell_type": "code",
   "execution_count": 77,
   "metadata": {},
   "outputs": [
    {
     "data": {
      "text/html": [
       "<div>\n",
       "<style scoped>\n",
       "    .dataframe tbody tr th:only-of-type {\n",
       "        vertical-align: middle;\n",
       "    }\n",
       "\n",
       "    .dataframe tbody tr th {\n",
       "        vertical-align: top;\n",
       "    }\n",
       "\n",
       "    .dataframe thead th {\n",
       "        text-align: right;\n",
       "    }\n",
       "</style>\n",
       "<table border=\"1\" class=\"dataframe\">\n",
       "  <thead>\n",
       "    <tr style=\"text-align: right;\">\n",
       "      <th></th>\n",
       "      <th>Extraction</th>\n",
       "      <th>Despicable Me</th>\n",
       "      <th>Spenser Confidential</th>\n",
       "      <th>Angel Has Fallen</th>\n",
       "      <th>The Social Dilemma</th>\n",
       "      <th>The Old Guard</th>\n",
       "    </tr>\n",
       "  </thead>\n",
       "  <tbody>\n",
       "    <tr>\n",
       "      <th>Maryam</th>\n",
       "      <td>2.0</td>\n",
       "      <td>4.0</td>\n",
       "      <td>0.0</td>\n",
       "      <td>0.0</td>\n",
       "      <td>2.0</td>\n",
       "      <td>3.0</td>\n",
       "    </tr>\n",
       "    <tr>\n",
       "      <th>Mohammed</th>\n",
       "      <td>3.0</td>\n",
       "      <td>0.0</td>\n",
       "      <td>3.0</td>\n",
       "      <td>4.0</td>\n",
       "      <td>0.0</td>\n",
       "      <td>0.0</td>\n",
       "    </tr>\n",
       "    <tr>\n",
       "      <th>Daniel</th>\n",
       "      <td>0.0</td>\n",
       "      <td>4.0</td>\n",
       "      <td>3.0</td>\n",
       "      <td>0.0</td>\n",
       "      <td>0.0</td>\n",
       "      <td>4.0</td>\n",
       "    </tr>\n",
       "    <tr>\n",
       "      <th>Jeffrey</th>\n",
       "      <td>0.0</td>\n",
       "      <td>0.0</td>\n",
       "      <td>4.0</td>\n",
       "      <td>0.0</td>\n",
       "      <td>5.0</td>\n",
       "      <td>4.0</td>\n",
       "    </tr>\n",
       "    <tr>\n",
       "      <th>Arslan</th>\n",
       "      <td>4.0</td>\n",
       "      <td>2.0</td>\n",
       "      <td>3.0</td>\n",
       "      <td>5.0</td>\n",
       "      <td>4.0</td>\n",
       "      <td>0.0</td>\n",
       "    </tr>\n",
       "  </tbody>\n",
       "</table>\n",
       "</div>"
      ],
      "text/plain": [
       "          Extraction  Despicable Me  Spenser Confidential  Angel Has Fallen  \\\n",
       "Maryam           2.0            4.0                   0.0               0.0   \n",
       "Mohammed         3.0            0.0                   3.0               4.0   \n",
       "Daniel           0.0            4.0                   3.0               0.0   \n",
       "Jeffrey          0.0            0.0                   4.0               0.0   \n",
       "Arslan           4.0            2.0                   3.0               5.0   \n",
       "\n",
       "          The Social Dilemma  The Old Guard  \n",
       "Maryam                   2.0            3.0  \n",
       "Mohammed                 0.0            0.0  \n",
       "Daniel                   0.0            4.0  \n",
       "Jeffrey                  5.0            4.0  \n",
       "Arslan                   4.0            0.0  "
      ]
     },
     "execution_count": 77,
     "metadata": {},
     "output_type": "execute_result"
    }
   ],
   "source": [
    "movie_survey.replace(np.NaN, 0)"
   ]
  },
  {
   "cell_type": "markdown",
   "metadata": {},
   "source": [
    "***Show the average ratings for each user***"
   ]
  },
  {
   "cell_type": "code",
   "execution_count": 78,
   "metadata": {},
   "outputs": [
    {
     "data": {
      "text/plain": [
       "Maryam      2.750000\n",
       "Mohammed    3.333333\n",
       "Daniel      3.666667\n",
       "Jeffrey     4.333333\n",
       "Arslan      3.600000\n",
       "dtype: float64"
      ]
     },
     "execution_count": 78,
     "metadata": {},
     "output_type": "execute_result"
    }
   ],
   "source": [
    "user_avg = movie_survey.mean(axis = 1)\n",
    "user_avg"
   ]
  },
  {
   "cell_type": "markdown",
   "metadata": {},
   "source": [
    "***Show the average ratings for each movie***"
   ]
  },
  {
   "cell_type": "code",
   "execution_count": 79,
   "metadata": {},
   "outputs": [
    {
     "data": {
      "text/plain": [
       "Extraction              3.000000\n",
       "Despicable Me           3.333333\n",
       "Spenser Confidential    3.250000\n",
       "Angel Has Fallen        4.500000\n",
       "The Social Dilemma      3.666667\n",
       "The Old Guard           3.666667\n",
       "dtype: float64"
      ]
     },
     "execution_count": 79,
     "metadata": {},
     "output_type": "execute_result"
    }
   ],
   "source": [
    "movie_avg = movie_survey.mean()\n",
    "movie_avg"
   ]
  },
  {
   "attachments": {
    "norm%20equation.png": {
     "image/png": "[encoded data removed]"
    }
   },
   "cell_type": "markdown",
   "metadata": {},
   "source": [
    "## Normalized Data\n",
    "Normalized data accounts for anomalies such as outliners or duplicates, which is a great advantage. It can also give users a better scale of viewing normal data that can be used for graphical plotting graphs. Normalized data can also have disadvantages, such as the null or NaN values. The null values can become unrealiable data and confusing to the user.\n",
    "\n",
    "![norm%20equation.png](attachment:norm%20equation.png)"
   ]
  },
  {
   "cell_type": "markdown",
   "metadata": {},
   "source": [
    "***Normalized data and replace NaN values with 0***"
   ]
  },
  {
   "cell_type": "code",
   "execution_count": 80,
   "metadata": {},
   "outputs": [
    {
     "data": {
      "text/html": [
       "<div>\n",
       "<style scoped>\n",
       "    .dataframe tbody tr th:only-of-type {\n",
       "        vertical-align: middle;\n",
       "    }\n",
       "\n",
       "    .dataframe tbody tr th {\n",
       "        vertical-align: top;\n",
       "    }\n",
       "\n",
       "    .dataframe thead th {\n",
       "        text-align: right;\n",
       "    }\n",
       "</style>\n",
       "<table border=\"1\" class=\"dataframe\">\n",
       "  <thead>\n",
       "    <tr style=\"text-align: right;\">\n",
       "      <th></th>\n",
       "      <th>Extraction</th>\n",
       "      <th>Despicable Me</th>\n",
       "      <th>Spenser Confidential</th>\n",
       "      <th>Angel Has Fallen</th>\n",
       "      <th>The Social Dilemma</th>\n",
       "      <th>The Old Guard</th>\n",
       "    </tr>\n",
       "  </thead>\n",
       "  <tbody>\n",
       "    <tr>\n",
       "      <th>Maryam</th>\n",
       "      <td>0.0</td>\n",
       "      <td>1.0</td>\n",
       "      <td>0.0</td>\n",
       "      <td>0.0</td>\n",
       "      <td>0.000000</td>\n",
       "      <td>0.0</td>\n",
       "    </tr>\n",
       "    <tr>\n",
       "      <th>Mohammed</th>\n",
       "      <td>0.5</td>\n",
       "      <td>0.0</td>\n",
       "      <td>0.0</td>\n",
       "      <td>0.0</td>\n",
       "      <td>0.000000</td>\n",
       "      <td>0.0</td>\n",
       "    </tr>\n",
       "    <tr>\n",
       "      <th>Daniel</th>\n",
       "      <td>0.0</td>\n",
       "      <td>1.0</td>\n",
       "      <td>0.0</td>\n",
       "      <td>0.0</td>\n",
       "      <td>0.000000</td>\n",
       "      <td>1.0</td>\n",
       "    </tr>\n",
       "    <tr>\n",
       "      <th>Jeffrey</th>\n",
       "      <td>0.0</td>\n",
       "      <td>0.0</td>\n",
       "      <td>1.0</td>\n",
       "      <td>0.0</td>\n",
       "      <td>1.000000</td>\n",
       "      <td>1.0</td>\n",
       "    </tr>\n",
       "    <tr>\n",
       "      <th>Arslan</th>\n",
       "      <td>1.0</td>\n",
       "      <td>0.0</td>\n",
       "      <td>0.0</td>\n",
       "      <td>1.0</td>\n",
       "      <td>0.666667</td>\n",
       "      <td>0.0</td>\n",
       "    </tr>\n",
       "  </tbody>\n",
       "</table>\n",
       "</div>"
      ],
      "text/plain": [
       "          Extraction  Despicable Me  Spenser Confidential  Angel Has Fallen  \\\n",
       "Maryam           0.0            1.0                   0.0               0.0   \n",
       "Mohammed         0.5            0.0                   0.0               0.0   \n",
       "Daniel           0.0            1.0                   0.0               0.0   \n",
       "Jeffrey          0.0            0.0                   1.0               0.0   \n",
       "Arslan           1.0            0.0                   0.0               1.0   \n",
       "\n",
       "          The Social Dilemma  The Old Guard  \n",
       "Maryam              0.000000            0.0  \n",
       "Mohammed            0.000000            0.0  \n",
       "Daniel              0.000000            1.0  \n",
       "Jeffrey             1.000000            1.0  \n",
       "Arslan              0.666667            0.0  "
      ]
     },
     "execution_count": 80,
     "metadata": {},
     "output_type": "execute_result"
    }
   ],
   "source": [
    "normalized = (movie_survey - movie_survey.min()) / (movie_survey.max() - movie_survey.min())\n",
    "normalized.replace(np.NaN, 0)"
   ]
  },
  {
   "cell_type": "markdown",
   "metadata": {},
   "source": [
    "***Show the normalized average ratings for each user***"
   ]
  },
  {
   "cell_type": "code",
   "execution_count": 81,
   "metadata": {},
   "outputs": [
    {
     "data": {
      "text/plain": [
       "Maryam      0.250000\n",
       "Mohammed    0.166667\n",
       "Daniel      0.666667\n",
       "Jeffrey     1.000000\n",
       "Arslan      0.533333\n",
       "dtype: float64"
      ]
     },
     "execution_count": 81,
     "metadata": {},
     "output_type": "execute_result"
    }
   ],
   "source": [
    "norm_user_avg = normalized.mean(axis = 1)\n",
    "norm_user_avg"
   ]
  },
  {
   "cell_type": "markdown",
   "metadata": {},
   "source": [
    "***Show the normalized average ratings for each movie***"
   ]
  },
  {
   "cell_type": "code",
   "execution_count": 82,
   "metadata": {
    "scrolled": true
   },
   "outputs": [
    {
     "data": {
      "text/plain": [
       "Extraction              0.500000\n",
       "Despicable Me           0.666667\n",
       "Spenser Confidential    0.250000\n",
       "Angel Has Fallen        0.500000\n",
       "The Social Dilemma      0.555556\n",
       "The Old Guard           0.666667\n",
       "dtype: float64"
      ]
     },
     "execution_count": 82,
     "metadata": {},
     "output_type": "execute_result"
    }
   ],
   "source": [
    "norm_movie_avg = normalized.mean()\n",
    "norm_movie_avg"
   ]
  },
  {
   "attachments": {
    "standard%20equation.png": {
     "image/png": "[encoded data removed]"
    }
   },
   "cell_type": "markdown",
   "metadata": {},
   "source": [
    "## Standardized Data\n",
    "Standardized data will transform it to have zero mean and unit variance. Algorithms can achieve better performance if the data has a consistent scale or distribution. Having standardized data helps center the data around 0 and to scale in respect to standard deviation.\n",
    "\n",
    "![standard%20equation.png](attachment:standard%20equation.png)"
   ]
  },
  {
   "cell_type": "markdown",
   "metadata": {},
   "source": [
    "***Standardized data and replace NaN values with 0***"
   ]
  },
  {
   "cell_type": "code",
   "execution_count": 83,
   "metadata": {},
   "outputs": [
    {
     "data": {
      "text/html": [
       "<div>\n",
       "<style scoped>\n",
       "    .dataframe tbody tr th:only-of-type {\n",
       "        vertical-align: middle;\n",
       "    }\n",
       "\n",
       "    .dataframe tbody tr th {\n",
       "        vertical-align: top;\n",
       "    }\n",
       "\n",
       "    .dataframe thead th {\n",
       "        text-align: right;\n",
       "    }\n",
       "</style>\n",
       "<table border=\"1\" class=\"dataframe\">\n",
       "  <thead>\n",
       "    <tr style=\"text-align: right;\">\n",
       "      <th></th>\n",
       "      <th>Extraction</th>\n",
       "      <th>Despicable Me</th>\n",
       "      <th>Spenser Confidential</th>\n",
       "      <th>Angel Has Fallen</th>\n",
       "      <th>The Social Dilemma</th>\n",
       "      <th>The Old Guard</th>\n",
       "    </tr>\n",
       "  </thead>\n",
       "  <tbody>\n",
       "    <tr>\n",
       "      <th>Maryam</th>\n",
       "      <td>-1.0</td>\n",
       "      <td>0.577350</td>\n",
       "      <td>0.0</td>\n",
       "      <td>0.000000</td>\n",
       "      <td>-1.091089</td>\n",
       "      <td>-1.154701</td>\n",
       "    </tr>\n",
       "    <tr>\n",
       "      <th>Mohammed</th>\n",
       "      <td>0.0</td>\n",
       "      <td>0.000000</td>\n",
       "      <td>-0.5</td>\n",
       "      <td>-0.707107</td>\n",
       "      <td>0.000000</td>\n",
       "      <td>0.000000</td>\n",
       "    </tr>\n",
       "    <tr>\n",
       "      <th>Daniel</th>\n",
       "      <td>0.0</td>\n",
       "      <td>0.577350</td>\n",
       "      <td>-0.5</td>\n",
       "      <td>0.000000</td>\n",
       "      <td>0.000000</td>\n",
       "      <td>0.577350</td>\n",
       "    </tr>\n",
       "    <tr>\n",
       "      <th>Jeffrey</th>\n",
       "      <td>0.0</td>\n",
       "      <td>0.000000</td>\n",
       "      <td>1.5</td>\n",
       "      <td>0.000000</td>\n",
       "      <td>0.872872</td>\n",
       "      <td>0.577350</td>\n",
       "    </tr>\n",
       "    <tr>\n",
       "      <th>Arslan</th>\n",
       "      <td>1.0</td>\n",
       "      <td>-1.154701</td>\n",
       "      <td>-0.5</td>\n",
       "      <td>0.707107</td>\n",
       "      <td>0.218218</td>\n",
       "      <td>0.000000</td>\n",
       "    </tr>\n",
       "  </tbody>\n",
       "</table>\n",
       "</div>"
      ],
      "text/plain": [
       "          Extraction  Despicable Me  Spenser Confidential  Angel Has Fallen  \\\n",
       "Maryam          -1.0       0.577350                   0.0          0.000000   \n",
       "Mohammed         0.0       0.000000                  -0.5         -0.707107   \n",
       "Daniel           0.0       0.577350                  -0.5          0.000000   \n",
       "Jeffrey          0.0       0.000000                   1.5          0.000000   \n",
       "Arslan           1.0      -1.154701                  -0.5          0.707107   \n",
       "\n",
       "          The Social Dilemma  The Old Guard  \n",
       "Maryam             -1.091089      -1.154701  \n",
       "Mohammed            0.000000       0.000000  \n",
       "Daniel              0.000000       0.577350  \n",
       "Jeffrey             0.872872       0.577350  \n",
       "Arslan              0.218218       0.000000  "
      ]
     },
     "execution_count": 83,
     "metadata": {},
     "output_type": "execute_result"
    }
   ],
   "source": [
    "standardized = (movie_survey - movie_survey.mean()) / movie_survey.std()\n",
    "standardized.replace(np.NaN, 0)"
   ]
  },
  {
   "cell_type": "markdown",
   "metadata": {},
   "source": [
    "***Show the standardized average ratings for each user***"
   ]
  },
  {
   "cell_type": "code",
   "execution_count": 84,
   "metadata": {},
   "outputs": [
    {
     "data": {
      "text/plain": [
       "Maryam     -0.667110\n",
       "Mohammed   -0.402369\n",
       "Daniel      0.218234\n",
       "Jeffrey     0.983407\n",
       "Arslan      0.054125\n",
       "dtype: float64"
      ]
     },
     "execution_count": 84,
     "metadata": {},
     "output_type": "execute_result"
    }
   ],
   "source": [
    "standard_user_avg = standardized.mean(1) \n",
    "standard_user_avg"
   ]
  },
  {
   "cell_type": "markdown",
   "metadata": {},
   "source": [
    "***Show the standardized average ratings for each movie***"
   ]
  },
  {
   "cell_type": "code",
   "execution_count": 85,
   "metadata": {},
   "outputs": [
    {
     "data": {
      "text/plain": [
       "Extraction              0.000000e+00\n",
       "Despicable Me          -1.480297e-16\n",
       "Spenser Confidential    0.000000e+00\n",
       "Angel Has Fallen        0.000000e+00\n",
       "The Social Dilemma      7.401487e-17\n",
       "The Old Guard           2.960595e-16\n",
       "dtype: float64"
      ]
     },
     "execution_count": 85,
     "metadata": {},
     "output_type": "execute_result"
    }
   ],
   "source": [
    "standard_movie_avg = standardized.mean(0)\n",
    "standard_movie_avg"
   ]
  }
 ],
 "metadata": {
  "kernelspec": {
   "display_name": "Python 3",
   "language": "python",
   "name": "python3"
  },
  "language_info": {
   "codemirror_mode": {
    "name": "ipython",
    "version": 3
   },
   "file_extension": ".py",
   "mimetype": "text/x-python",
   "name": "python",
   "nbconvert_exporter": "python",
   "pygments_lexer": "ipython3",
   "version": "3.8.3"
  }
 },
 "nbformat": 4,
 "nbformat_minor": 4
}
