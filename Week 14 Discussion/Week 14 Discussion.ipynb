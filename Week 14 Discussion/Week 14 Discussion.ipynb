{
 "cells": [
  {
   "cell_type": "markdown",
   "metadata": {},
   "source": [
    "# Ismael Hasan\n",
    "## Week 14 Discussion\n",
    "\n",
    "**IS 362 - Dr. Charles Pak - CUNY School of Professional Studies**\n",
    "\n",
    "**Recommender Systems - Scenario Design Analysis**"
   ]
  },
  {
   "cell_type": "markdown",
   "metadata": {},
   "source": [
    "***Identify a recommender system web site:***<br>\n",
    "__[Hulu](https://www.hulu.com/welcome?orig_referrer=https%3A%2F%2Fwww.bing.com%2F)__ is a national recommender system website. It is a paid platform that is primarily used to stream thousands of videos including movies and tv shows. Hulu charges its consumer a monthly fee in order to bring them updated and high quality videos. Hulu even provides its viewers with “Hulu original” tv shows and movies, in which the company creates its own content to air on their sites. Hulu also streams videos from thousands of creators ranging from Warner Brothers Pictures to the cwTV. For paid users, content is available to stream any time of any on virtually and tech device. Content streamed from creators other than Hulu can be available for a limited time on the platform. This is determined by the deals and negotiations Hulu sets up with producers from outside creators. Due to this, some content that was available to view one year might becoming unavailable the following year. It also means that content is always being change, renewed, and updated. Depending on the monthly plan, users can also opt for a commercial and interruption free viewing experience. "
   ]
  },
  {
   "cell_type": "markdown",
   "metadata": {},
   "source": [
    "***Answer the three scenario design questions for this web site:***\n",
    "> 1 - Who are your users?<br>\n",
    "> 2 - What are their key goals?<br>\n",
    "> 3 - How can you help them accomplish those goals?<br>"
   ]
  },
  {
   "cell_type": "markdown",
   "metadata": {},
   "source": [
    "***1 - Who are your users?***<br>\n",
    "The users of Hulu include consumers who pay a monthly subscription in order to stream their video library. "
   ]
  },
  {
   "cell_type": "markdown",
   "metadata": {},
   "source": [
    "***2 - What are their key goals?***<br>\n",
    "The goal of consumers is to watch content through Hulu’s streaming platform for enjoyment and entertainment purposes. "
   ]
  },
  {
   "cell_type": "markdown",
   "metadata": {},
   "source": [
    "***3 - How can you help them accomplish those goals?***<br>\n",
    "For starters it would help if Hulu listened to their consumers about the kind of content they hope to find available on their website. Their marketing strategy should be simple; keeping the customers happy. Building a trust and loyalty with their consumers keeps people coming back for more. It’s also important to create recommendation on demand based on search results, videos ratings, and history of watched content; essentially an algorithm created to maximize both customer appeal and profits. Hulu also has the capability to grow exponentially by to moving its website and streaming services to the cloud. This allows billions of consumers to choose from millions of movies or shows and watch them on demand – all at the same time. This not only benefits Hulu but allows users a whole online library of content to access at any time and place. The potential for growth ranges from cost flexibility, greater business scalability, market adaptability, masked complexity, intelligent assistance, and even ecosystem connectivity; all of which opens the doors for growth and benefits both Hulu and it’s consumers."
   ]
  }
 ],
 "metadata": {
  "kernelspec": {
   "display_name": "Python 3",
   "language": "python",
   "name": "python3"
  },
  "language_info": {
   "codemirror_mode": {
    "name": "ipython",
    "version": 3
   },
   "file_extension": ".py",
   "mimetype": "text/x-python",
   "name": "python",
   "nbconvert_exporter": "python",
   "pygments_lexer": "ipython3",
   "version": "3.8.3"
  }
 },
 "nbformat": 4,
 "nbformat_minor": 4
}
