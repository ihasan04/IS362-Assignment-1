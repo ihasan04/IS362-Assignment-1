{
 "cells": [
  {
   "cell_type": "markdown",
   "metadata": {},
   "source": [
    "# Ismael Hasan\n",
    "## Assignment 3\n",
    "\n",
    "**IS 362 - Dr. Charles Pak - CUNY School of Professional Studies**\n",
    "\n",
    "Suppose you have ridden a bicycle from New York City to Key West, Florida.  Your bicycle odometer shows the total miles, which you have dutifully logged at the end of each day with paper and pencil.  Your first two entries might be 55 and 120, indicating that you rode your bike 55 miles on day 1 and 65 miles on day 2. Your task is to create a pandas Series object that holds the cumulative miles at the end of each day, then use your Python skills to show the total miles that you rode each day.\n"
   ]
  },
  {
   "cell_type": "markdown",
   "metadata": {},
   "source": [
    "***The bicycle trip from New York to Florida is about 1284 miles. So we will use this as a constant for total miles needed to travel.***"
   ]
  },
  {
   "cell_type": "code",
   "execution_count": 191,
   "metadata": {},
   "outputs": [],
   "source": [
    "from random import randint\n",
    "\n",
    "import matplotlib.pyplot as plt\n",
    "import numpy as np\n",
    "import pandas as pd\n",
    "\n",
    "%matplotlib inline"
   ]
  },
  {
   "cell_type": "markdown",
   "metadata": {},
   "source": [
    "***Create a function to generate a random number of miles each day; between 50 and 100 miles***"
   ]
  },
  {
   "cell_type": "code",
   "execution_count": 192,
   "metadata": {},
   "outputs": [],
   "source": [
    "def random_miles(remaining_miles):\n",
    "    miles = randint(50, 100)  \n",
    "    \n",
    "    if (remaining_miles > miles) and (remaining_miles - miles) > 5:\n",
    "        return miles    \n",
    "    elif (remaining_miles > miles) and (remaining_miles - miles) <= 5:\n",
    "        return remaining_miles    \n",
    "    else:\n",
    "        return remaining_miles"
   ]
  },
  {
   "cell_type": "markdown",
   "metadata": {},
   "source": [
    "***Log and store miles traveled for each day***"
   ]
  },
  {
   "cell_type": "code",
   "execution_count": 193,
   "metadata": {},
   "outputs": [],
   "source": [
    "ny_to_fl_miles = 1284\n",
    "miles_completed = 0\n",
    "day = 1\n",
    "logged_miles = {}\n",
    "\n",
    "while miles_completed < ny_to_fl_miles:    \n",
    "    miles = random_miles(ny_to_fl_miles - miles_completed)   \n",
    "    logged_miles[f'Day {day}'] = miles      \n",
    "    day += 1\n",
    "    miles_completed += miles"
   ]
  },
  {
   "cell_type": "markdown",
   "metadata": {},
   "source": [
    "***Create Pands series objects to display daily, cumulative, and a visual plot of miles traveled each day***"
   ]
  },
  {
   "cell_type": "code",
   "execution_count": 194,
   "metadata": {},
   "outputs": [
    {
     "name": "stdout",
     "output_type": "stream",
     "text": [
      "Day 1     92\n",
      "Day 2     63\n",
      "Day 3     71\n",
      "Day 4     97\n",
      "Day 5     56\n",
      "Day 6     66\n",
      "Day 7     62\n",
      "Day 8     96\n",
      "Day 9     83\n",
      "Day 10    64\n",
      "Day 11    82\n",
      "Day 12    96\n",
      "Day 13    84\n",
      "Day 14    65\n",
      "Day 15    54\n",
      "Day 16    89\n",
      "Day 17    64\n",
      "dtype: int64\n",
      "Day 1       92\n",
      "Day 2      155\n",
      "Day 3      226\n",
      "Day 4      323\n",
      "Day 5      379\n",
      "Day 6      445\n",
      "Day 7      507\n",
      "Day 8      603\n",
      "Day 9      686\n",
      "Day 10     750\n",
      "Day 11     832\n",
      "Day 12     928\n",
      "Day 13    1012\n",
      "Day 14    1077\n",
      "Day 15    1131\n",
      "Day 16    1220\n",
      "Day 17    1284\n",
      "dtype: int64\n"
     ]
    },
    {
     "data": {
      "image/png": "[encoded data removed]",
      "text/plain": [
       "<Figure size 432x288 with 1 Axes>"
      ]
     },
     "metadata": {
      "needs_background": "light"
     },
     "output_type": "display_data"
    }
   ],
   "source": [
    "daily_miles = pd.Series(logged_miles)\n",
    "print(daily_miles)\n",
    "\n",
    "odometer = daily_miles.cumsum()\n",
    "print(odometer)\n",
    "\n",
    "daily_miles.plot(title='Miles Per Day');"
   ]
  }
 ],
 "metadata": {
  "kernelspec": {
   "display_name": "Python 3",
   "language": "python",
   "name": "python3"
  },
  "language_info": {
   "codemirror_mode": {
    "name": "ipython",
    "version": 3
   },
   "file_extension": ".py",
   "mimetype": "text/x-python",
   "name": "python",
   "nbconvert_exporter": "python",
   "pygments_lexer": "ipython3",
   "version": "3.8.3"
  }
 },
 "nbformat": 4,
 "nbformat_minor": 4
}
